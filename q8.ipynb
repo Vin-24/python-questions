{
 "cells": [
  {
   "cell_type": "markdown",
   "id": "892cc604-9bea-4500-ae00-44201b151ca5",
   "metadata": {},
   "source": [
    "#### How can you replace string space with a given character in Python?"
   ]
  },
  {
   "cell_type": "code",
   "execution_count": 7,
   "id": "c6292937-6e9e-483d-bc3c-b9f21806e359",
   "metadata": {
    "tags": []
   },
   "outputs": [
    {
     "name": "stdin",
     "output_type": "stream",
     "text": [
      " l vey u\n",
      " o\n"
     ]
    },
    {
     "name": "stdout",
     "output_type": "stream",
     "text": [
      "loveyou\n"
     ]
    }
   ],
   "source": [
    "s=input()\n",
    "v=input()\n",
    "r=''\n",
    "for i in s:\n",
    "    if i==\" \":\n",
    "        i=v\n",
    "    r+=i \n",
    "print(r)      \n",
    "    "
   ]
  },
  {
   "cell_type": "code",
   "execution_count": null,
   "id": "afd1d282-862e-470e-a3ec-1e22f59ea562",
   "metadata": {},
   "outputs": [],
   "source": []
  }
 ],
 "metadata": {
  "kernelspec": {
   "display_name": "Python 3 (ipykernel)",
   "language": "python",
   "name": "python3"
  },
  "language_info": {
   "codemirror_mode": {
    "name": "ipython",
    "version": 3
   },
   "file_extension": ".py",
   "mimetype": "text/x-python",
   "name": "python",
   "nbconvert_exporter": "python",
   "pygments_lexer": "ipython3",
   "version": "3.10.4"
  }
 },
 "nbformat": 4,
 "nbformat_minor": 5
}
