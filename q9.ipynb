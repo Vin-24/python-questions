{
 "cells": [
  {
   "cell_type": "markdown",
   "id": "d25feb5d-649c-490a-9e90-745b5561a5ac",
   "metadata": {},
   "source": [
    "#### how to convert string into title without using any function"
   ]
  },
  {
   "cell_type": "code",
   "execution_count": 14,
   "id": "3fbc7c21-15c3-42eb-8ecf-34bd55ca60f4",
   "metadata": {
    "tags": []
   },
   "outputs": [
    {
     "name": "stdin",
     "output_type": "stream",
     "text": [
      " how\n"
     ]
    },
    {
     "name": "stdout",
     "output_type": "stream",
     "text": [
      "How\n"
     ]
    }
   ],
   "source": [
    "a=input()\n",
    "r=''\n",
    "for i in a:\n",
    "    if i in a[0]:\n",
    "        c=chr(ord(i)-32)\n",
    "        i=c\n",
    "    r+=i\n",
    "print(r)    \n"
   ]
  },
  {
   "cell_type": "code",
   "execution_count": 10,
   "id": "cc86aedd-eb0c-417d-9c89-928186d63c2d",
   "metadata": {
    "tags": []
   },
   "outputs": [
    {
     "data": {
      "text/plain": [
       "104"
      ]
     },
     "execution_count": 10,
     "metadata": {},
     "output_type": "execute_result"
    }
   ],
   "source": [
    "ord('h')"
   ]
  },
  {
   "cell_type": "code",
   "execution_count": null,
   "id": "77ffc3df-c196-4d52-88bc-d3b6cb903ce1",
   "metadata": {},
   "outputs": [],
   "source": []
  }
 ],
 "metadata": {
  "kernelspec": {
   "display_name": "Python 3 (ipykernel)",
   "language": "python",
   "name": "python3"
  },
  "language_info": {
   "codemirror_mode": {
    "name": "ipython",
    "version": 3
   },
   "file_extension": ".py",
   "mimetype": "text/x-python",
   "name": "python",
   "nbconvert_exporter": "python",
   "pygments_lexer": "ipython3",
   "version": "3.10.4"
  }
 },
 "nbformat": 4,
 "nbformat_minor": 5
}
